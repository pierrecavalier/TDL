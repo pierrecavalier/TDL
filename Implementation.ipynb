{
 "cells": [
  {
   "cell_type": "code",
   "execution_count": 7,
   "metadata": {},
   "outputs": [
    {
     "name": "stdout",
     "output_type": "stream",
     "text": [
      "(4001, 9)\n",
      "Index(['A_id', 'Size', 'Weight', 'Sweetness', 'Crunchiness', 'Juiciness',\n",
      "       'Ripeness', 'Acidity', 'Quality'],\n",
      "      dtype='object')\n"
     ]
    }
   ],
   "source": [
    "import numpy as np\n",
    "import pandas as pd\n",
    "import matplotlib.pyplot as plt\n",
    "\n",
    "#Load apple_quality.csv\n",
    "apple_quality = pd.read_csv('apple_quality.csv')\n",
    "\n",
    "\n",
    "#print the size of the dataset\n",
    "print(apple_quality.shape)\n",
    "\n",
    "#print the column names\n",
    "print(apple_quality.columns)"
   ]
  },
  {
   "cell_type": "code",
   "execution_count": 8,
   "metadata": {},
   "outputs": [],
   "source": [
    "#split the datat in a training and a test set\n",
    "from sklearn.model_selection import train_test_split\n",
    "X = apple_quality[['Size', 'Weight', 'Sweetness', 'Crunchiness', 'Juiciness',\n",
    "       'Ripeness', 'Acidity']]\n",
    "y = apple_quality['Quality']\n",
    "X_train, X_test, y_train, y_test = train_test_split(X, y, random_state=0)"
   ]
  },
  {
   "cell_type": "markdown",
   "metadata": {},
   "source": [
    "We denote the width of the neural network as $m := \\min_{l \\in [L]} m_l$ with $m_l$ the width of the $l$-th layer. By initializing the weights according to a normal centered reduced distribution, the last layer activation $\\sigma_{L+1}$ satisfies $|\\sigma'_{L+1}(z)| \\geq \\rho > 0$ and that $\\lambda_0 := \\lambda_{\\min}(K(W_0)) > 0$ for any $\\mu \\in (0, \\lambda_0 \\rho^2)$, if the width of the network\n",
    "verifies:\n",
    "$$m = \\widetilde{\\Omega}\\left(\\frac{nR^{6L+2}}{(\\lambda_0 - \\mu\\rho^{-2})^2}\\right)$$\n",
    "\n",
    "Then the $\\mu\\text{-PL}^*$ condition holds for the square loss function in the ball $B(w_0, R)$."
   ]
  },
  {
   "cell_type": "markdown",
   "metadata": {},
   "source": [
    "With a Relu function, $\\rho = 1$ "
   ]
  },
  {
   "cell_type": "code",
   "execution_count": null,
   "metadata": {},
   "outputs": [],
   "source": []
  },
  {
   "cell_type": "code",
   "execution_count": 18,
   "metadata": {},
   "outputs": [
    {
     "name": "stdout",
     "output_type": "stream",
     "text": [
      "hidden1.weight torch.Size([20, 7])\n",
      "hidden1.bias torch.Size([20])\n",
      "hidden2.weight torch.Size([40, 20])\n",
      "hidden2.bias torch.Size([40])\n",
      "output.weight torch.Size([1, 40])\n",
      "output.bias torch.Size([1])\n",
      "1041\n"
     ]
    }
   ],
   "source": [
    "import torch.nn as nn\n",
    "\n",
    "class NeuralNetwork(nn.Module):\n",
    "    def __init__(self, input_size, hidden_size, output_size):\n",
    "        super(NeuralNetwork, self).__init__()\n",
    "        self.hidden1 = nn.Linear(input_size, hidden_size)\n",
    "        self.hidden2 = nn.Linear(hidden_size, 2*hidden_size)\n",
    "        self.output = nn.Linear(2*hidden_size, output_size)\n",
    "        self.relu = nn.ReLU()\n",
    "\n",
    "    def forward(self, x):\n",
    "        x = self.relu(self.hidden1(x))\n",
    "        x = self.relu(self.hidden2(x))\n",
    "        x = self.output(x)\n",
    "        return x\n",
    "\n",
    "# Define the input size, hidden size, and output size\n",
    "input_size = len(X.columns)\n",
    "hidden_size = 20\n",
    "output_size = 1\n",
    "\n",
    "# Create an instance of the neural network model\n",
    "model = NeuralNetwork(input_size, hidden_size, output_size)\n",
    "\n",
    "\n",
    "#print the number of parameters per layer\n",
    "for name, param in model.named_parameters():\n",
    "    print(name, param.shape)\n",
    "\n",
    "#print number of parameters²\n",
    "print(sum(p.numel() for p in model.parameters()))\n"
   ]
  },
  {
   "cell_type": "code",
   "execution_count": 16,
   "metadata": {},
   "outputs": [
    {
     "data": {
      "text/plain": [
       "NeuralNetwork(\n",
       "  (hidden1): Linear(in_features=7, out_features=20, bias=True)\n",
       "  (hidden2): Linear(in_features=20, out_features=40, bias=True)\n",
       "  (output): Linear(in_features=40, out_features=1, bias=True)\n",
       "  (relu): ReLU()\n",
       ")"
      ]
     },
     "execution_count": 16,
     "metadata": {},
     "output_type": "execute_result"
    }
   ],
   "source": [
    "#Initialize the weight with normal distribution\n",
    "def init_weights(m):\n",
    "    if type(m) == nn.Linear:\n",
    "        m.weight.data.normal_(0, 1)\n",
    "        m.bias.data.fill_(0)\n",
    "\n",
    "model.apply(init_weights)"
   ]
  },
  {
   "cell_type": "code",
   "execution_count": 21,
   "metadata": {},
   "outputs": [
    {
     "data": {
      "text/plain": [
       "800"
      ]
     },
     "execution_count": 21,
     "metadata": {},
     "output_type": "execute_result"
    }
   ],
   "source": [
    "20*40"
   ]
  },
  {
   "cell_type": "code",
   "execution_count": 17,
   "metadata": {},
   "outputs": [],
   "source": [
    "def F(w, X, loss_fn):\n",
    "    #return the predict of the model with the weights w for the input x\n",
    "    model.hidden1.weight.data = w[0:140].reshape(20,7)\n",
    "    model.hidden1.bias.data = w[140:160]\n",
    "    model.hidden2.weight.data = w[160:960].reshape(40,20)\n",
    "    model.hidden2.bias.data = w[960:1000]\n",
    "    model.output.weight.data = w[1000:1040].reshape(1,40)\n",
    "    model.output.bias.data = w[1040:1041]\n",
    "\n",
    "    pred = []\n",
    "    for x in X:\n",
    "        pred.append(model(x))\n",
    "\n",
    "\n",
    "    return loss_fn(x)\n",
    "\n",
    "def loss_fn(y_pred, y):\n",
    "    return 1/2 * ((y_pred - y)**2).mean()\n",
    "\n",
    "def compute_derivative_numerically(F, w, h=1e-7):\n",
    "    return (F(w + h) - F(w - h)) / (2.0 * h)\n",
    "\n",
    "\n",
    "\n"
   ]
  }
 ],
 "metadata": {
  "kernelspec": {
   "display_name": "base",
   "language": "python",
   "name": "python3"
  },
  "language_info": {
   "codemirror_mode": {
    "name": "ipython",
    "version": 3
   },
   "file_extension": ".py",
   "mimetype": "text/x-python",
   "name": "python",
   "nbconvert_exporter": "python",
   "pygments_lexer": "ipython3",
   "version": "3.11.4"
  }
 },
 "nbformat": 4,
 "nbformat_minor": 2
}
